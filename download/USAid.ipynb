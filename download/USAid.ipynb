{
 "cells": [
  {
   "cell_type": "markdown",
   "metadata": {},
   "source": [
    "## USAID "
   ]
  },
  {
   "cell_type": "markdown",
   "metadata": {},
   "source": [
    "The data is available in [USAID](https://explorer.usaid.gov/) site."
   ]
  },
  {
   "cell_type": "markdown",
   "metadata": {},
   "source": [
    "We download the data locally. "
   ]
  },
  {
   "cell_type": "markdown",
   "metadata": {},
   "source": [
    "We noticed that  the field `fiscal_year` has strange years `1976tq`, which denote some transition quarters. This will cause problem in our data analysis, so let us replace these years with proper year name: `1976`. To do this, we can resort to terminal command as follows. See [this](https://stackoverflow.com/questions/19456518/invalid-command-code-despite-escaping-periods-using-sed) for help. "
   ]
  },
  {
   "cell_type": "code",
   "execution_count": null,
   "metadata": {
    "collapsed": true
   },
   "outputs": [],
   "source": [
    "!sed -i '' -e \"s/1976tq/1976/g\" us_foreign_aid_complete.csv"
   ]
  },
  {
   "cell_type": "markdown",
   "metadata": {},
   "source": [
    "Next, I will read the file into a `DataFrame`. However, during loading pyhton returns some warning about two columns that has mixed datatypes. "
   ]
  },
  {
   "cell_type": "code",
   "execution_count": null,
   "metadata": {},
   "outputs": [],
   "source": [
    "import pandas as pd\n",
    "import numpy as np\n",
    "\n",
    "file_address = 'us_foreign_aid_complete.csv'\n",
    "usaid_data = pd.read_csv(file_address)"
   ]
  },
  {
   "cell_type": "markdown",
   "metadata": {},
   "source": [
    "Here are the various columns of our dataset"
   ]
  },
  {
   "cell_type": "code",
   "execution_count": null,
   "metadata": {},
   "outputs": [],
   "source": [
    "usaid_data.columns"
   ]
  },
  {
   "cell_type": "markdown",
   "metadata": {},
   "source": [
    "Upon investigating, we find that the columns `current_amount` and `constant_amount` indicate amounts as strings that has `,` separators for millions, thousands and etc, which the `pandas` converter `to_numeric` can not handle. \n",
    "\n",
    "To get around we must first remove these comma separators using `replace` function within list comprehension. However, this columns has already converted float which does not need any removal of comma's, hence we need to introduce conditional `if/else` within the list comprehension as follows."
   ]
  },
  {
   "cell_type": "code",
   "execution_count": null,
   "metadata": {
    "collapsed": true
   },
   "outputs": [],
   "source": [
    "usaid_data['current_amount']= [x.replace(',', '') if isinstance(x, str) else x for x in usaid_data['current_amount'].values]\n",
    "usaid_data['current_amount']= pd.to_numeric(usaid_data['current_amount'])\n",
    "\n",
    "usaid_data['constant_amount']= [x.replace(',', '') if isinstance(x, str) else x for x in usaid_data['constant_amount'].values]\n",
    "usaid_data['constant_amount']= pd.to_numeric(usaid_data['constant_amount'])"
   ]
  },
  {
   "cell_type": "markdown",
   "metadata": {},
   "source": [
    "To make sure, let us display few lines from this column. "
   ]
  },
  {
   "cell_type": "code",
   "execution_count": null,
   "metadata": {
    "collapsed": true
   },
   "outputs": [],
   "source": [
    "usaid_data['current_amount'].head()"
   ]
  },
  {
   "cell_type": "markdown",
   "metadata": {},
   "source": [
    "What is the size of our dataset?"
   ]
  },
  {
   "cell_type": "code",
   "execution_count": null,
   "metadata": {
    "collapsed": true
   },
   "outputs": [],
   "source": [
    "usaid_data.shape"
   ]
  },
  {
   "cell_type": "markdown",
   "metadata": {},
   "source": [
    "So, it has 821,744 records in 49 columns. Here is a list of the columns and their data types. "
   ]
  },
  {
   "cell_type": "code",
   "execution_count": null,
   "metadata": {
    "collapsed": true
   },
   "outputs": [],
   "source": [
    "usaid_data.dtypes"
   ]
  },
  {
   "cell_type": "code",
   "execution_count": null,
   "metadata": {
    "collapsed": true
   },
   "outputs": [],
   "source": [
    "usaid_data['assistance_category_name'].unique()"
   ]
  },
  {
   "cell_type": "markdown",
   "metadata": {},
   "source": [
    "If we think our dataset contains too many columns, we can delete unwanted column names like the ones containing ID's, codes or acronyms. "
   ]
  },
  {
   "cell_type": "code",
   "execution_count": null,
   "metadata": {},
   "outputs": [],
   "source": [
    "del_list = [c for c in usaid_data.columns.str.contains(r'_id|_code|_acronym')]\n",
    "import itertools\n",
    "drop_list =[c for c in itertools.compress(usaid_data.columns.values, del_list)]\n",
    "usaid_data.drop(drop_list,1)"
   ]
  },
  {
   "cell_type": "markdown",
   "metadata": {},
   "source": [
    "What period this dataset covers?"
   ]
  },
  {
   "cell_type": "code",
   "execution_count": null,
   "metadata": {
    "collapsed": true
   },
   "outputs": [],
   "source": [
    "print(usaid_data['numeric_year'].min())\n",
    "print(usaid_data['numeric_year'].max())"
   ]
  },
  {
   "cell_type": "markdown",
   "metadata": {},
   "source": [
    "So, we have 71 years of US Aid data starting from after World War II till today. "
   ]
  },
  {
   "cell_type": "markdown",
   "metadata": {},
   "source": [
    "Let us see to how many countries did USA extended its aid throughut the last 71 years."
   ]
  },
  {
   "cell_type": "code",
   "execution_count": null,
   "metadata": {
    "collapsed": true
   },
   "outputs": [],
   "source": [
    "len(usaid_data['country_name'].unique())"
   ]
  },
  {
   "cell_type": "markdown",
   "metadata": {},
   "source": [
    "Here is the list of countries. Note that this list contains some regions as well like 'Middle East'. It is good to note that region names end up with the word `Region`, so we can grab them all if we want a specific regional analysis."
   ]
  },
  {
   "cell_type": "code",
   "execution_count": null,
   "metadata": {
    "collapsed": true
   },
   "outputs": [],
   "source": [
    "countries = usaid_data['country_name'].unique().tolist()\n",
    "print(sorted(countries))"
   ]
  },
  {
   "cell_type": "markdown",
   "metadata": {},
   "source": [
    "Let us see how much a particular country gets US Aid in a particular year. I have placed this inside a function that takes a country name and year (defaulted to 2015) and transaction type (defaulted to 'Obligation') and returned the sum of all aides in that year. Note, that I have used the `format_currency` module from `babel.numbers` to return a better formatted number."
   ]
  },
  {
   "cell_type": "code",
   "execution_count": null,
   "metadata": {},
   "outputs": [],
   "source": [
    "def country_aid(country, year=2015, type='Obligations', format='c'):\n",
    "    mask_country = usaid_data['country_name']== country\n",
    "    mask_transaction = usaid_data['transaction_type_name']==type\n",
    "    mask_year = usaid_data['fiscal_year']==year\n",
    "    res = usaid_data.loc[mask_country & mask_transaction & mask_year]\n",
    "    result = res.loc[:,'current_amount'].sum()\n",
    "    if format=='c':\n",
    "        from babel.numbers import format_currency\n",
    "        return(format_currency(result, 'USD', locale='en_US'))\n",
    "    else:\n",
    "        return result"
   ]
  },
  {
   "cell_type": "code",
   "execution_count": null,
   "metadata": {
    "collapsed": true
   },
   "outputs": [],
   "source": [
    "country_aid('Iran', 2015, format='c')"
   ]
  },
  {
   "cell_type": "markdown",
   "metadata": {},
   "source": [
    "Let us leverage on this function to create a list of aid amounts for a range of years."
   ]
  },
  {
   "cell_type": "code",
   "execution_count": null,
   "metadata": {
    "collapsed": true
   },
   "outputs": [],
   "source": [
    "[country_aid('Bangladesh', x, format='n') for x in range(2001,2015)]"
   ]
  },
  {
   "cell_type": "markdown",
   "metadata": {},
   "source": [
    "Let us put togather these snippets to create a function that plots US Aid to a given country for a given time period. "
   ]
  },
  {
   "cell_type": "code",
   "execution_count": null,
   "metadata": {
    "collapsed": true
   },
   "outputs": [],
   "source": [
    "def plot_trend(country, start=2001, end=2015):\n",
    "    %matplotlib inline\n",
    "    import matplotlib.pyplot as plt\n",
    "    amts = [country_aid(country, x, format='n') for x in range(start,end+1)]\n",
    "    fig, axis = plt.subplots()\n",
    "    title = \"USAid to %s [%d - %d]\" %(country, start, end)\n",
    "    plt.title(title)\n",
    "    plt.ylabel('Current US$')\n",
    "    axis.plot(range(start,end+1), amts)"
   ]
  },
  {
   "cell_type": "code",
   "execution_count": null,
   "metadata": {
    "collapsed": true
   },
   "outputs": [],
   "source": [
    "plot_trend('Bangladesh')"
   ]
  },
  {
   "cell_type": "code",
   "execution_count": null,
   "metadata": {
    "collapsed": true
   },
   "outputs": [],
   "source": [
    "plot_trend('Saudi Arabia', 1946)"
   ]
  },
  {
   "cell_type": "code",
   "execution_count": null,
   "metadata": {
    "collapsed": true
   },
   "outputs": [],
   "source": [
    "plot_trend(\"Bangladesh\", 1970, 1973)"
   ]
  },
  {
   "cell_type": "markdown",
   "metadata": {},
   "source": [
    "`assistance_category_name` specifies military or economic classification of the aid. Let us tweak the previous function to find out what % of USAid to a country goes for military puposes. "
   ]
  },
  {
   "cell_type": "code",
   "execution_count": null,
   "metadata": {},
   "outputs": [],
   "source": [
    "def aid_category(country, year_start=1946, year_end=2015, type='Obligations'):\n",
    "    mask_country = usaid_data['country_name']== country\n",
    "    mask_transaction = usaid_data['transaction_type_name']==type\n",
    "    mask_year_start = usaid_data['fiscal_year']>=year_start\n",
    "    mask_year_end = usaid_data['fiscal_year']<=year_end\n",
    "    res = usaid_data.loc[mask_country & mask_transaction & mask_year_start & mask_year_end]\n",
    "    total = res.loc[:,'current_amount'].sum()\n",
    "    res2 = res.groupby('assistance_category_name').agg('sum')\n",
    "    try:\n",
    "        return res2.loc[:, 'current_amount'][1]/total * 100\n",
    "    except:\n",
    "        return 0"
   ]
  },
  {
   "cell_type": "code",
   "execution_count": null,
   "metadata": {
    "collapsed": true
   },
   "outputs": [],
   "source": [
    "aid_category('Bangladesh')"
   ]
  },
  {
   "cell_type": "markdown",
   "metadata": {},
   "source": [
    "Using this we can build a `dictionary` of all countries and the proportaion of military aid from USA. "
   ]
  },
  {
   "cell_type": "code",
   "execution_count": null,
   "metadata": {
    "collapsed": true
   },
   "outputs": [],
   "source": [
    "countries = usaid_data['country_name'].unique().tolist()\n",
    "dic = {}\n",
    "for c in countries:\n",
    "    dic[c]= aid_category(c)\n"
   ]
  },
  {
   "cell_type": "markdown",
   "metadata": {},
   "source": [
    "To find the top countries, all we need is to find a way to sort this dictionary by values."
   ]
  },
  {
   "cell_type": "code",
   "execution_count": null,
   "metadata": {
    "collapsed": true
   },
   "outputs": [],
   "source": [
    "sorted(dic.items(), key=lambda x: x[1], reverse=True)"
   ]
  },
  {
   "cell_type": "markdown",
   "metadata": {},
   "source": [
    "How about finding the top countries by military aid values (rather than proportion of total aids)."
   ]
  },
  {
   "cell_type": "code",
   "execution_count": null,
   "metadata": {
    "collapsed": true
   },
   "outputs": [],
   "source": [
    "def military_aid(country, year_start=1946, year_end=2015, type='Obligations'):\n",
    "    mask_country = usaid_data['country_name']== country\n",
    "    mask_transaction = usaid_data['transaction_type_name']==type\n",
    "    mask_year_start = usaid_data['fiscal_year']>=year_start\n",
    "    mask_year_end = usaid_data['fiscal_year']<=year_end\n",
    "    mask_aid_category = usaid_data['assistance_category_name']=='Military'\n",
    "    res = usaid_data.loc[mask_country & mask_transaction & mask_year_start & mask_year_end & mask_aid_category]\n",
    "    total = res.loc[:,'current_amount'].sum()\n",
    "    return total"
   ]
  },
  {
   "cell_type": "code",
   "execution_count": null,
   "metadata": {
    "collapsed": true
   },
   "outputs": [],
   "source": [
    "military_aid('Bangladesh')"
   ]
  },
  {
   "cell_type": "code",
   "execution_count": null,
   "metadata": {},
   "outputs": [],
   "source": [
    "countries = usaid_data['country_name'].unique().tolist()\n",
    "dic2 = {}\n",
    "for c in countries:\n",
    "    dic2[c]= military_aid(c)"
   ]
  },
  {
   "cell_type": "code",
   "execution_count": null,
   "metadata": {
    "collapsed": true
   },
   "outputs": [],
   "source": [
    "mil = sorted(dic2.items(), key=lambda x: x[1], reverse=True)\n",
    "mil"
   ]
  },
  {
   "cell_type": "markdown",
   "metadata": {},
   "source": [
    "No surprizing that Israel is the champion of US Military aid with the figure of 88.5 billion US Dollar. "
   ]
  },
  {
   "cell_type": "markdown",
   "metadata": {},
   "source": [
    "Let us vizualize the top 10 countries through a horizontal bar chart. To do this, we first need to prepare the top 10 country names from the first element of the tuple. "
   ]
  },
  {
   "cell_type": "code",
   "execution_count": null,
   "metadata": {
    "collapsed": true
   },
   "outputs": [],
   "source": [
    "top10countries = [x for x,y in mil][:10]\n",
    "amts = [y for x,y in mil][:10]"
   ]
  },
  {
   "cell_type": "code",
   "execution_count": null,
   "metadata": {
    "collapsed": true
   },
   "outputs": [],
   "source": [
    "import matplotlib.pyplot as plt\n",
    "import numpy as np\n",
    "\n",
    "plt.rcdefaults()\n",
    "fig, ax = plt.subplots()\n",
    "\n",
    "y_pos = np.arange(len(top10countries))\n",
    "error = np.random.rand(len(top10countries))\n",
    "\n",
    "ax.barh(y_pos, amts, xerr = error, \n",
    "        align='center',\n",
    "#        color='red',\n",
    "        ecolor='black')\n",
    "ax.set_yticks(y_pos)\n",
    "ax.set_yticklabels(cc)\n",
    "ax.invert_yaxis()  # labels read top-to-bottom\n",
    "ax.set_xlabel('US$ Aid Amounts')\n",
    "ax.set_title('Top 10 US Military Aid Receipients')\n",
    "\n",
    "plt.show()"
   ]
  },
  {
   "cell_type": "markdown",
   "metadata": {},
   "source": [
    "We want to draw trend line for a country showing the progress of US Aid for both economic and military category. This show tell us US interest about a country over time and how it favors militarism to a country."
   ]
  },
  {
   "cell_type": "code",
   "execution_count": null,
   "metadata": {},
   "outputs": [],
   "source": [
    "def country_aid_cat(country, cat='Economic', year=2015, type='Obligations', format='c'):\n",
    "    mask_country = usaid_data['country_name']== country\n",
    "    mask_transaction = usaid_data['transaction_type_name']==type\n",
    "    mask_year = usaid_data['fiscal_year']==year\n",
    "    mask_cat = usaid_data['assistance_category_name']==cat\n",
    "    res = usaid_data.loc[mask_country & mask_transaction & mask_year & mask_cat]\n",
    "    result = res.loc[:,'current_amount'].sum()\n",
    "    if format=='c':\n",
    "        from babel.numbers import format_currency\n",
    "        return(format_currency(result, 'USD', locale='en_US'))\n",
    "    else:\n",
    "        return result"
   ]
  },
  {
   "cell_type": "code",
   "execution_count": null,
   "metadata": {
    "collapsed": true
   },
   "outputs": [],
   "source": [
    "country_aid_cat('Bangladesh', cat='Military')"
   ]
  },
  {
   "cell_type": "code",
   "execution_count": null,
   "metadata": {
    "collapsed": true
   },
   "outputs": [],
   "source": [
    "usaid_data['assistance_category_name'].unique()"
   ]
  },
  {
   "cell_type": "code",
   "execution_count": null,
   "metadata": {
    "collapsed": true
   },
   "outputs": [],
   "source": [
    "[country_aid_cat('Bangladesh', 'Military',x, format='n') for x in range(2001,2015)]"
   ]
  },
  {
   "cell_type": "code",
   "execution_count": null,
   "metadata": {
    "collapsed": true
   },
   "outputs": [],
   "source": [
    "def plot_trend_cat(country, start=2001, end=2015):\n",
    "    %matplotlib inline\n",
    "    import matplotlib.pyplot as plt\n",
    "    amts_econ = [country_aid_cat(country,'Economic', x, format='n') for x in range(start,end+1)]\n",
    "    amts_mil = [country_aid_cat(country,'Military', x, format='n') for x in range(start,end+1)]\n",
    "    fig, axis = plt.subplots()\n",
    "    title = \"USAid to %s [%d - %d]\" %(country, start, end)\n",
    "    plt.title(title)\n",
    "    plt.ylabel('Current US$')\n",
    "    axis.plot(range(start,end+1), amts_econ)\n",
    "    axis.plot(range(start,end+1), amts_mil)\n",
    "    plt.legend(['Economic', 'Mililary'])\n",
    "    plt.show()"
   ]
  },
  {
   "cell_type": "code",
   "execution_count": null,
   "metadata": {
    "collapsed": true
   },
   "outputs": [],
   "source": [
    "plot_trend_cat('Vietnam (former South)', 1960,1980)"
   ]
  },
  {
   "cell_type": "code",
   "execution_count": null,
   "metadata": {
    "collapsed": true
   },
   "outputs": [],
   "source": [
    "usaid_data.columns[43:45]"
   ]
  },
  {
   "cell_type": "code",
   "execution_count": null,
   "metadata": {
    "collapsed": true
   },
   "outputs": [],
   "source": [
    "usaid_data.dtypes"
   ]
  },
  {
   "cell_type": "code",
   "execution_count": null,
   "metadata": {
    "collapsed": true
   },
   "outputs": [],
   "source": [
    "print(usaid_data['fiscal_year'].min())"
   ]
  },
  {
   "cell_type": "code",
   "execution_count": null,
   "metadata": {
    "collapsed": true
   },
   "outputs": [],
   "source": [
    "plot_trend_cat('Iran', 1946)"
   ]
  },
  {
   "cell_type": "code",
   "execution_count": null,
   "metadata": {
    "collapsed": true
   },
   "outputs": [],
   "source": [
    "plot_trend_cat('Iran', 1950,1960)"
   ]
  },
  {
   "cell_type": "code",
   "execution_count": null,
   "metadata": {
    "collapsed": true
   },
   "outputs": [],
   "source": [
    "plot_trend_cat('Iran', 1960, 1971)"
   ]
  },
  {
   "cell_type": "code",
   "execution_count": null,
   "metadata": {},
   "outputs": [],
   "source": [
    "def country_aid_activities(country, year=2015, type='Obligations', format='c'):\n",
    "    mask_country = usaid_data['country_name']== country\n",
    "    mask_transaction = usaid_data['transaction_type_name']==type\n",
    "    mask_year = usaid_data['fiscal_year']==year\n",
    "    res = usaid_data.loc[mask_country & mask_transaction & mask_year]\n",
    "    res = res.groupby('activity_name').agg('sum')\n",
    "    res = res.filter(['activity_name', 'current_amount'], axis=1)\n",
    "    return res.sort_values('current_amount', ascending=False)[:10]"
   ]
  },
  {
   "cell_type": "code",
   "execution_count": null,
   "metadata": {
    "collapsed": true
   },
   "outputs": [],
   "source": [
    "country_aid_activities('Bangladesh')"
   ]
  },
  {
   "cell_type": "code",
   "execution_count": null,
   "metadata": {
    "collapsed": true
   },
   "outputs": [],
   "source": [
    "country_aid_activities('Iran', 1956)"
   ]
  },
  {
   "cell_type": "code",
   "execution_count": null,
   "metadata": {},
   "outputs": [],
   "source": [
    "def average_aids(country, year_start=1946, year_end=2015, type='Obligations'):\n",
    "    mask_country = usaid_data['country_name']== country\n",
    "    mask_transaction = usaid_data['transaction_type_name']==type\n",
    "    mask_year_start = usaid_data['fiscal_year']>=year_start\n",
    "    mask_year_end = usaid_data['fiscal_year']<=year_end\n",
    "    res = usaid_data.loc[mask_country & mask_transaction & mask_year_start & mask_year_end]\n",
    "    res = res.groupby('fiscal_year').agg('mean')\n",
    "    res = res.filter(['fiscal_year', 'current_amount'], axis=1)\n",
    "    return res"
   ]
  },
  {
   "cell_type": "code",
   "execution_count": null,
   "metadata": {},
   "outputs": [],
   "source": [
    "average_aids('Iran')"
   ]
  },
  {
   "cell_type": "code",
   "execution_count": null,
   "metadata": {
    "collapsed": true
   },
   "outputs": [],
   "source": [
    "plot_trend_cat('Israel', 1970, 2015)"
   ]
  },
  {
   "cell_type": "code",
   "execution_count": null,
   "metadata": {
    "collapsed": true
   },
   "outputs": [],
   "source": [
    "plot_trend_cat('West Bank/Gaza', 1970, 2015)"
   ]
  },
  {
   "cell_type": "code",
   "execution_count": null,
   "metadata": {
    "collapsed": true
   },
   "outputs": [],
   "source": [
    "country_aid_activities('Israel')"
   ]
  },
  {
   "cell_type": "code",
   "execution_count": null,
   "metadata": {
    "collapsed": true
   },
   "outputs": [],
   "source": [
    "country_aid_activities('West Bank/Gaza', 2016)"
   ]
  },
  {
   "cell_type": "code",
   "execution_count": null,
   "metadata": {
    "collapsed": true
   },
   "outputs": [],
   "source": [
    "plot_trend_cat('Israel', 1970, 1981)"
   ]
  },
  {
   "cell_type": "code",
   "execution_count": null,
   "metadata": {
    "collapsed": true
   },
   "outputs": [],
   "source": [
    "plot_trend_cat('Egypt', 1975)"
   ]
  },
  {
   "cell_type": "code",
   "execution_count": null,
   "metadata": {
    "collapsed": true
   },
   "outputs": [],
   "source": [
    "plot_trend_cat('Jordan', 1946)"
   ]
  },
  {
   "cell_type": "code",
   "execution_count": null,
   "metadata": {
    "collapsed": true
   },
   "outputs": [],
   "source": [
    "tot_all = usaid_data['current_amount'].sum()"
   ]
  },
  {
   "cell_type": "code",
   "execution_count": null,
   "metadata": {},
   "outputs": [],
   "source": [
    "israel = usaid_data['country_name']== 'Israel'\n",
    "egypt = usaid_data['country_name']== 'Egypt'\n",
    "il = usaid_data.loc[israel]\n",
    "tot_il = il['current_amount'].sum()\n",
    "eg = usaid_data.loc[egypt]\n",
    "tot_eg = eg['current_amount'].sum()"
   ]
  },
  {
   "cell_type": "code",
   "execution_count": null,
   "metadata": {
    "collapsed": true
   },
   "outputs": [],
   "source": [
    "tot_eg"
   ]
  },
  {
   "cell_type": "code",
   "execution_count": null,
   "metadata": {
    "collapsed": true
   },
   "outputs": [],
   "source": [
    "tot_il"
   ]
  },
  {
   "cell_type": "code",
   "execution_count": null,
   "metadata": {
    "collapsed": true
   },
   "outputs": [],
   "source": [
    "(tot_eg + tot_il)/tot_all"
   ]
  }
 ],
 "metadata": {
  "kernelspec": {
   "display_name": "Python 3",
   "language": "python",
   "name": "python3"
  },
  "language_info": {
   "codemirror_mode": {
    "name": "ipython",
    "version": 3
   },
   "file_extension": ".py",
   "mimetype": "text/x-python",
   "name": "python",
   "nbconvert_exporter": "python",
   "pygments_lexer": "ipython3",
   "version": "3.6.1"
  }
 },
 "nbformat": 4,
 "nbformat_minor": 2
}
